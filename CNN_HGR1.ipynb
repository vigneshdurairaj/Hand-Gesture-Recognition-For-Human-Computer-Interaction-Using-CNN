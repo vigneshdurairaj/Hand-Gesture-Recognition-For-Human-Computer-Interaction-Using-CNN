{
  "nbformat": 4,
  "nbformat_minor": 0,
  "metadata": {
    "colab": {
      "name": "New_Hgr.ipynb",
      "provenance": [],
      "collapsed_sections": []
    },
    "kernelspec": {
      "name": "python3",
      "display_name": "Python 3"
    },
    "accelerator": "GPU"
  },
  "cells": [
    {
      "cell_type": "code",
      "metadata": {
        "id": "2aMPPrN97uiQ",
        "colab_type": "code",
        "colab": {}
      },
      "source": [
        "from google.colab import drive\n",
        "drive.mount('/content/drive')"
      ],
      "execution_count": 0,
      "outputs": []
    },
    {
      "cell_type": "code",
      "metadata": {
        "id": "pYsapGwX84XO",
        "colab_type": "code",
        "outputId": "2a5e5727-ca82-4287-b23d-ea8f92dfa69c",
        "colab": {
          "base_uri": "https://localhost:8080/",
          "height": 34
        }
      },
      "source": [
        "%matplotlib inline\n",
        "from google.colab import files\n",
        "import os\n",
        "import imutils\n",
        "from imutils import contours\n",
        "from skimage import measure\n",
        "import tensorflow as tf\n",
        "from tensorflow import keras\n",
        "\n",
        "\n",
        "import numpy as np\n",
        "import matplotlib.pyplot as plt\n",
        "import cv2\n",
        "import pandas as pd\n",
        "from google.colab.patches import cv2_imshow \n",
        "\n",
        "\n",
        "from sklearn.model_selection import train_test_split\n",
        "from sklearn.metrics import confusion_matrix \n",
        "\n",
        "print(tf.__version__)"
      ],
      "execution_count": 0,
      "outputs": [
        {
          "output_type": "stream",
          "text": [
            "1.14.0\n"
          ],
          "name": "stdout"
        }
      ]
    },
    {
      "cell_type": "code",
      "metadata": {
        "id": "QXn5Wcaj8ADy",
        "colab_type": "code",
        "outputId": "86546964-187d-4108-8e5b-c1b9b35e30e5",
        "colab": {
          "base_uri": "https://localhost:8080/",
          "height": 34
        }
      },
      "source": [
        "from zipfile import ZipFile\n",
        "file_name = '/content/drive/My Drive/Colab Notebooks/Dataset.zip'\n",
        "\n",
        "with ZipFile(file_name,'r') as zip:\n",
        "  zip.extractall()\n",
        "  print('Done')\n",
        "\n",
        "# get_ipython().system_raw(\"unrar x leapGestRecog.rar \")"
      ],
      "execution_count": 0,
      "outputs": [
        {
          "output_type": "stream",
          "text": [
            "Done\n"
          ],
          "name": "stdout"
        }
      ]
    },
    {
      "cell_type": "code",
      "metadata": {
        "id": "yLQZj--iSShf",
        "colab_type": "code",
        "colab": {}
      },
      "source": [
        ""
      ],
      "execution_count": 0,
      "outputs": []
    },
    {
      "cell_type": "code",
      "metadata": {
        "id": "Ix3TIaP2LBwf",
        "colab_type": "code",
        "colab": {}
      },
      "source": [
        "# import shutil\n",
        "\n",
        "# shutil.rmtree('/content/Dataset')"
      ],
      "execution_count": 0,
      "outputs": []
    },
    {
      "cell_type": "code",
      "metadata": {
        "id": "_F_JFI3i90Pi",
        "colab_type": "code",
        "colab": {}
      },
      "source": [
        "\n",
        "imagepaths = []\n",
        "\n",
        "\n",
        "for root, dirs, files in os.walk(\"./Dataset\", topdown=False): \n",
        "  for name in files:\n",
        "    path = os.path.join(root, name)\n",
        "    if path.endswith(\"png\"): \n",
        "      imagepaths.append(path)\n",
        "     \n",
        "      \n",
        "\n",
        "print(len(imagepaths))\n"
      ],
      "execution_count": 0,
      "outputs": []
    },
    {
      "cell_type": "code",
      "metadata": {
        "id": "DqPgLoqKCLga",
        "colab_type": "code",
        "outputId": "9b4c98f4-7235-4252-e223-10296f03b721",
        "colab": {
          "base_uri": "https://localhost:8080/",
          "height": 249
        }
      },
      "source": [
        "image = cv2.imread(imagepaths[1000])\n",
        "image = np.array(image, dtype=\"uint8\")\n",
        "\n",
        "cv2_imshow(image)\n",
        "\n",
        "\n",
        "image.shape\n",
        "# image.reshape(1,-1)\n",
        "\n",
        "\n",
        "gray_image = cv2.cvtColor(image, cv2.COLOR_BGR2GRAY)\n",
        "cv2_imshow(gray_image)\n",
        "gray_image.shape\n",
        "# image.reshape(1,-1)\n",
        "img = gray_image.reshape(116, 100, 1)\n"
      ],
      "execution_count": 0,
      "outputs": [
        {
          "output_type": "display_data",
          "data": {
            "image/png": "[encoded data removed]",
            "text/plain": [
              "<PIL.Image.Image image mode=RGB size=100x116 at 0x7F44F90A0DA0>"
            ]
          },
          "metadata": {
            "tags": []
          }
        },
        {
          "output_type": "display_data",
          "data": {
            "image/png": "[encoded data removed]",
            "text/plain": [
              "<PIL.Image.Image image mode=L size=100x116 at 0x7F44F90A0CF8>"
            ]
          },
          "metadata": {
            "tags": []
          }
        }
      ]
    },
    {
      "cell_type": "code",
      "metadata": {
        "id": "9__g7Ix1S3dp",
        "colab_type": "code",
        "outputId": "8ffef8cc-6ee9-4ddd-9c2e-eebcf7d43e81",
        "colab": {
          "base_uri": "https://localhost:8080/",
          "height": 34
        }
      },
      "source": [
        "i = './Dataset/L/2_L517.png'\n",
        "int(i.split('/')[3][0])"
      ],
      "execution_count": 0,
      "outputs": [
        {
          "output_type": "execute_result",
          "data": {
            "text/plain": [
              "2"
            ]
          },
          "metadata": {
            "tags": []
          },
          "execution_count": 6
        }
      ]
    },
    {
      "cell_type": "code",
      "metadata": {
        "id": "Ceov68O38pUL",
        "colab_type": "code",
        "colab": {}
      },
      "source": [
        "X = []\n",
        "y = []\n",
        "\n",
        "for path in imagepaths:\n",
        "  image = cv2.imread(path)\n",
        "  image = np.array(image, dtype=\"uint8\")\n",
        "  gray_image = cv2.cvtColor(image, cv2.COLOR_BGR2GRAY)\n",
        "  X.append(gray_image.reshape(116, 100, 1))\n",
        "  y.append(int(path.split('/')[3][0]))\n",
        "\n",
        "\n"
      ],
      "execution_count": 0,
      "outputs": []
    },
    {
      "cell_type": "code",
      "metadata": {
        "id": "-Hj1OObrH9O6",
        "colab_type": "code",
        "outputId": "7a5b5664-22ad-46e9-d196-5c2fbadfc624",
        "colab": {
          "base_uri": "https://localhost:8080/",
          "height": 34
        }
      },
      "source": [
        "X.shape\n",
        "#120,320,1"
      ],
      "execution_count": 0,
      "outputs": [
        {
          "output_type": "execute_result",
          "data": {
            "text/plain": [
              "(15005, 116, 100, 1)"
            ]
          },
          "metadata": {
            "tags": []
          },
          "execution_count": 26
        }
      ]
    },
    {
      "cell_type": "code",
      "metadata": {
        "id": "YWS2IvKx--sd",
        "colab_type": "code",
        "outputId": "c54a277f-f1b8-4bf2-daf9-0906ff396d5a",
        "colab": {
          "base_uri": "https://localhost:8080/",
          "height": 68
        }
      },
      "source": [
        "X = np.array(X, dtype=\"uint8\")\n",
        "y = np.array(y)\n",
        "\n",
        "print(\"Images loaded: \", len(X))\n",
        "print(\"Labels loaded: \", len(y))\n",
        "\n",
        "print(y[1000], imagepaths[1000])"
      ],
      "execution_count": 0,
      "outputs": [
        {
          "output_type": "stream",
          "text": [
            "Images loaded:  15005\n",
            "Labels loaded:  15005\n",
            "5 ./Dataset/U/5_U1457.png\n"
          ],
          "name": "stdout"
        }
      ]
    },
    {
      "cell_type": "code",
      "metadata": {
        "id": "Dat6ONJ__ETv",
        "colab_type": "code",
        "colab": {}
      },
      "source": [
        "ts = 0.3\n",
        "X_train, X_test, y_train, y_test = train_test_split(X, y, test_size=ts, random_state=42)\n"
      ],
      "execution_count": 0,
      "outputs": []
    },
    {
      "cell_type": "code",
      "metadata": {
        "id": "A6l0fYKCIIIy",
        "colab_type": "code",
        "colab": {}
      },
      "source": [
        "\n",
        "from keras.models import Sequential\n",
        "from keras.layers.convolutional import Conv2D, MaxPooling2D\n",
        "from keras.layers import Dense, Flatten"
      ],
      "execution_count": 0,
      "outputs": []
    },
    {
      "cell_type": "code",
      "metadata": {
        "id": "JrksCFm_IK9l",
        "colab_type": "code",
        "colab": {}
      },
      "source": [
        "\n",
        "model = Sequential()\n",
        "model.add(Conv2D(32, (5), activation='relu', input_shape=(116, 100, 1))) \n",
        "model.add(MaxPooling2D((2, 2)))\n",
        "model.add(Conv2D(64, (3, 3), activation='relu')) \n",
        "model.add(MaxPooling2D((2, 2)))\n",
        "model.add(Conv2D(64, (3, 3), activation='relu'))\n",
        "model.add(MaxPooling2D((2, 2)))\n",
        "model.add(Flatten())\n",
        "model.add(Dense(128, activation='relu'))\n",
        "model.add(Dense(10, activation='softmax'))"
      ],
      "execution_count": 0,
      "outputs": []
    },
    {
      "cell_type": "code",
      "metadata": {
        "id": "ANi2uM-iJjCL",
        "colab_type": "code",
        "colab": {}
      },
      "source": [
        "model.compile(optimizer='adam', loss='sparse_categorical_crossentropy', metrics=['accuracy'])\n"
      ],
      "execution_count": 0,
      "outputs": []
    },
    {
      "cell_type": "code",
      "metadata": {
        "id": "CcJ4P7THJoXn",
        "colab_type": "code",
        "outputId": "ce0b599c-8150-4e5f-87c2-f72582385afd",
        "colab": {
          "base_uri": "https://localhost:8080/",
          "height": 241
        }
      },
      "source": [
        "model.fit(X_train, y_train, epochs=5, batch_size=64, verbose=1, validation_data=(X_test, y_test))"
      ],
      "execution_count": 0,
      "outputs": [
        {
          "output_type": "stream",
          "text": [
            "Train on 10503 samples, validate on 4502 samples\n",
            "Epoch 1/5\n",
            "10503/10503 [==============================] - 9s 835us/step - loss: 12.8948 - acc: 0.1991 - val_loss: 12.8602 - val_acc: 0.2021\n",
            "Epoch 2/5\n",
            "10503/10503 [==============================] - 8s 753us/step - loss: 12.9061 - acc: 0.1993 - val_loss: 12.8601 - val_acc: 0.2021\n",
            "Epoch 3/5\n",
            "10503/10503 [==============================] - 8s 748us/step - loss: 12.9061 - acc: 0.1993 - val_loss: 12.8601 - val_acc: 0.2021\n",
            "Epoch 4/5\n",
            "10503/10503 [==============================] - 8s 757us/step - loss: 12.9061 - acc: 0.1993 - val_loss: 12.8601 - val_acc: 0.2021\n",
            "Epoch 5/5\n",
            "10503/10503 [==============================] - 8s 763us/step - loss: 12.9061 - acc: 0.1993 - val_loss: 12.8601 - val_acc: 0.2021\n"
          ],
          "name": "stdout"
        },
        {
          "output_type": "execute_result",
          "data": {
            "text/plain": [
              "<keras.callbacks.History at 0x7f44a6193cc0>"
            ]
          },
          "metadata": {
            "tags": []
          },
          "execution_count": 57
        }
      ]
    },
    {
      "cell_type": "code",
      "metadata": {
        "id": "HIK8K7EhXw_O",
        "colab_type": "code",
        "outputId": "9e64da8f-1db3-4694-dd73-0e488e6acad9",
        "colab": {
          "base_uri": "https://localhost:8080/",
          "height": 51
        }
      },
      "source": [
        "test_loss, test_acc = model.evaluate(X_test, y_test)\n",
        "\n",
        "print('Test accuracy: {:2.2f}%'.format(test_acc*100))"
      ],
      "execution_count": 0,
      "outputs": [
        {
          "output_type": "stream",
          "text": [
            "4502/4502 [==============================] - 1s 319us/step\n",
            "Test accuracy: 20.21%\n"
          ],
          "name": "stdout"
        }
      ]
    },
    {
      "cell_type": "code",
      "metadata": {
        "id": "GClP3VBHXyqX",
        "colab_type": "code",
        "colab": {}
      },
      "source": [
        "model.save('hgr_model2.h5')"
      ],
      "execution_count": 0,
      "outputs": []
    },
    {
      "cell_type": "code",
      "metadata": {
        "id": "Iv1sFLHpcVQO",
        "colab_type": "code",
        "colab": {}
      },
      "source": [
        "# model = '/contents/hgr_model1.h5'\n",
        "from keras.models import load_model\n",
        "model = load_model(\"hgr_model1.h5\")\n"
      ],
      "execution_count": 0,
      "outputs": []
    },
    {
      "cell_type": "code",
      "metadata": {
        "id": "sjAsbqp6U9ey",
        "colab_type": "code",
        "colab": {}
      },
      "source": [
        "predictions = model.predict(X_test)"
      ],
      "execution_count": 0,
      "outputs": []
    },
    {
      "cell_type": "code",
      "metadata": {
        "id": "APImRqymbOXk",
        "colab_type": "code",
        "outputId": "9b74f943-262e-4f31-b506-a9883a76ba9d",
        "colab": {
          "base_uri": "https://localhost:8080/",
          "height": 34
        }
      },
      "source": [
        "predictions[0]"
      ],
      "execution_count": 0,
      "outputs": [
        {
          "output_type": "execute_result",
          "data": {
            "text/plain": [
              "array([0., 0., 0., 0., 1., 0., 0., 0., 0., 0.], dtype=float32)"
            ]
          },
          "metadata": {
            "tags": []
          },
          "execution_count": 65
        }
      ]
    },
    {
      "cell_type": "code",
      "metadata": {
        "id": "T3m7DvfaVDi2",
        "colab_type": "code",
        "outputId": "1ca0828d-a67e-416f-e188-7d154a4d4877",
        "colab": {
          "base_uri": "https://localhost:8080/",
          "height": 34
        }
      },
      "source": [
        "np.argmax(predictions[300]), y_test[300] "
      ],
      "execution_count": 0,
      "outputs": [
        {
          "output_type": "execute_result",
          "data": {
            "text/plain": [
              "(4, 1)"
            ]
          },
          "metadata": {
            "tags": []
          },
          "execution_count": 63
        }
      ]
    },
    {
      "cell_type": "code",
      "metadata": {
        "id": "cR7rv0R2VF8B",
        "colab_type": "code",
        "colab": {}
      },
      "source": [
        ""
      ],
      "execution_count": 0,
      "outputs": []
    },
    {
      "cell_type": "code",
      "metadata": {
        "id": "0S4VYSwtVhQX",
        "colab_type": "code",
        "colab": {}
      },
      "source": [
        "y_pred = np.argmax(predictions, axis=1) "
      ],
      "execution_count": 0,
      "outputs": []
    },
    {
      "cell_type": "code",
      "metadata": {
        "id": "oBe5xzzxdb-p",
        "colab_type": "code",
        "colab": {}
      },
      "source": [
        "g_login = GoogleAuth()\n",
        "g_login.LocalWebserverAuth()\n",
        "drive = GoogleDrive(g_login)\n"
      ],
      "execution_count": 0,
      "outputs": []
    },
    {
      "cell_type": "code",
      "metadata": {
        "id": "zv35vIW2Vt31",
        "colab_type": "code",
        "outputId": "19e3d26f-4fd8-4465-e1b7-61f8703a1b58",
        "colab": {
          "base_uri": "https://localhost:8080/",
          "height": 204
        }
      },
      "source": [
        "pd.DataFrame(confusion_matrix(y_test, y_pred), \n",
        "             columns=[\"Predicted K\", \"Predicted L\", \"Predicted P\", \"Predicted T\", \"Predicted U\"],\n",
        "             index=[\"Actual K\", \"Actual L\", \"Actual P\", \"Actual Fist T\", \"Actual U\"])"
      ],
      "execution_count": 0,
      "outputs": [
        {
          "output_type": "execute_result",
          "data": {
            "text/html": [
              "<div>\n",
              "<style scoped>\n",
              "    .dataframe tbody tr th:only-of-type {\n",
              "        vertical-align: middle;\n",
              "    }\n",
              "\n",
              "    .dataframe tbody tr th {\n",
              "        vertical-align: top;\n",
              "    }\n",
              "\n",
              "    .dataframe thead th {\n",
              "        text-align: right;\n",
              "    }\n",
              "</style>\n",
              "<table border=\"1\" class=\"dataframe\">\n",
              "  <thead>\n",
              "    <tr style=\"text-align: right;\">\n",
              "      <th></th>\n",
              "      <th>Predicted K</th>\n",
              "      <th>Predicted L</th>\n",
              "      <th>Predicted P</th>\n",
              "      <th>Predicted T</th>\n",
              "      <th>Predicted U</th>\n",
              "    </tr>\n",
              "  </thead>\n",
              "  <tbody>\n",
              "    <tr>\n",
              "      <th>Actual K</th>\n",
              "      <td>720</td>\n",
              "      <td>0</td>\n",
              "      <td>110</td>\n",
              "      <td>75</td>\n",
              "      <td>7</td>\n",
              "    </tr>\n",
              "    <tr>\n",
              "      <th>Actual L</th>\n",
              "      <td>23</td>\n",
              "      <td>805</td>\n",
              "      <td>17</td>\n",
              "      <td>65</td>\n",
              "      <td>0</td>\n",
              "    </tr>\n",
              "    <tr>\n",
              "      <th>Actual P</th>\n",
              "      <td>43</td>\n",
              "      <td>25</td>\n",
              "      <td>706</td>\n",
              "      <td>77</td>\n",
              "      <td>16</td>\n",
              "    </tr>\n",
              "    <tr>\n",
              "      <th>Actual Fist T</th>\n",
              "      <td>43</td>\n",
              "      <td>92</td>\n",
              "      <td>223</td>\n",
              "      <td>547</td>\n",
              "      <td>4</td>\n",
              "    </tr>\n",
              "    <tr>\n",
              "      <th>Actual U</th>\n",
              "      <td>0</td>\n",
              "      <td>1</td>\n",
              "      <td>0</td>\n",
              "      <td>0</td>\n",
              "      <td>903</td>\n",
              "    </tr>\n",
              "  </tbody>\n",
              "</table>\n",
              "</div>"
            ],
            "text/plain": [
              "               Predicted K  Predicted L  Predicted P  Predicted T  Predicted U\n",
              "Actual K               720            0          110           75            7\n",
              "Actual L                23          805           17           65            0\n",
              "Actual P                43           25          706           77           16\n",
              "Actual Fist T           43           92          223          547            4\n",
              "Actual U                 0            1            0            0          903"
            ]
          },
          "metadata": {
            "tags": []
          },
          "execution_count": 23
        }
      ]
    }
  ]
}